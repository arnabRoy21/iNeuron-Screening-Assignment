{
 "cells": [
  {
   "cell_type": "markdown",
   "metadata": {},
   "source": [
    "#### Python Screening Assignment\n",
    "1. Create a function in python to read the text file and replace specific content\n",
    "of the file.<br><br><table>\n",
    "  <tr>\n",
    "    <td>File name</td>\n",
    "    <td>example.txt</td>\n",
    "  </tr>\n",
    "  <tr>\n",
    "    <td>Origin file content</td>\n",
    "    <td>This is a placement assignment</td>\n",
    "  </tr>\n",
    "  <tr>\n",
    "    <td>Replace string</td>\n",
    "    <td>Placement should be replaced by screening</td>\n",
    "  </tr>\n",
    "  <tr>\n",
    "    <td>Replaced file content</td>\n",
    "    <td>This is a screening assignment</td>\n",
    "  </tr>\n",
    "</table><br>"
   ]
  },
  {
   "cell_type": "code",
   "execution_count": 9,
   "metadata": {},
   "outputs": [
    {
     "name": "stdout",
     "output_type": "stream",
     "text": [
      "Original File Content:  This is a screening assignment\n",
      "File Content after replacement:  This is a screening assignment\n"
     ]
    }
   ],
   "source": [
    "try:\n",
    "    with open('./example.txt', 'r') as file:\n",
    "        data = file.read()\n",
    "        print('Original File Content: ', data)\n",
    "        data = data.replace('placement', 'screening')   \n",
    "\n",
    "    with open('./example.txt', 'w') as file:\n",
    "        file.write(data)\n",
    "    \n",
    "    with open('./example.txt', 'r') as file:\n",
    "        data = file.read()\n",
    "\n",
    "    print('File Content after replacement: ', data)\n",
    "except FileNotFoundError as e:\n",
    "    print(e)"
   ]
  },
  {
   "cell_type": "markdown",
   "metadata": {},
   "source": [
    "#### 2. Demonstrate use of abstract class, multiple inheritance and decorator in python using examples."
   ]
  },
  {
   "cell_type": "markdown",
   "metadata": {},
   "source": [
    "##### Abstract Class"
   ]
  },
  {
   "cell_type": "code",
   "execution_count": 9,
   "metadata": {},
   "outputs": [
    {
     "name": "stdout",
     "output_type": "stream",
     "text": [
      "Area of square is:  100\n",
      "Area of square is:  200\n"
     ]
    }
   ],
   "source": [
    "\n",
    "from abc import ABC, abstractmethod\n",
    "\n",
    "\n",
    "class Quadrilateral(ABC):\n",
    "\t@abstractmethod\n",
    "\tdef area(self):\n",
    "\t\tpass\n",
    "\n",
    "class Square(Quadrilateral):\n",
    "    def display():\n",
    "        pass \n",
    "    \n",
    "    def area(self, n): \n",
    "        print(\"Area of square is: \", n**2)\n",
    "\n",
    "\n",
    "class Rectangle(Quadrilateral):\n",
    "\tdef area(self, n, m):\n",
    "\t\tprint(\"Area of square is: \", n*m)\n",
    "\n",
    "sq = Square()\n",
    "sq.area(10)\n",
    "\n",
    "rect = Rectangle()\n",
    "rect.area(10,20)\n"
   ]
  },
  {
   "cell_type": "markdown",
   "metadata": {},
   "source": [
    "##### Multiple Inheritance"
   ]
  },
  {
   "cell_type": "code",
   "execution_count": 22,
   "metadata": {},
   "outputs": [
    {
     "name": "stdout",
     "output_type": "stream",
     "text": [
      "Starting __init__ of C\n",
      "Starting __init__ of A\n",
      "ending __init__ of A\n",
      "ending __init__ of C\n"
     ]
    },
    {
     "data": {
      "text/plain": [
       "'Tony Stark'"
      ]
     },
     "execution_count": 22,
     "metadata": {},
     "output_type": "execute_result"
    }
   ],
   "source": [
    "class A():  \n",
    "    def __init__(self):\n",
    "        print(\"Starting __init__ of A\")\n",
    "        self.name = \"Tony Stark\"\n",
    "        print(\"ending __init__ of A\")\n",
    "    def display(self):\n",
    "        print(\"method of class A\")\n",
    "   \n",
    "class B():  \n",
    "    def __init__(self):\n",
    "        print(\"Starting __init__ of B\")\n",
    "        self.name = \"Steve Rogers\"\n",
    "        print(\"ending __init__ of B\")\n",
    "        \n",
    "    def display(self):\n",
    "        print(\"method of class B\")\n",
    "  \n",
    "class C(A, B):\n",
    "    def __init__(self):\n",
    "        print(\"Starting __init__ of C\")\n",
    "        super().__init__()\n",
    "        print(\"ending __init__ of C\")\n",
    "        \n",
    "    def display(self):\n",
    "        print(\"method of class C\")\n",
    "\n",
    "obj = C()\n",
    "obj.name"
   ]
  },
  {
   "cell_type": "markdown",
   "metadata": {},
   "source": [
    "##### Decorator"
   ]
  },
  {
   "cell_type": "code",
   "execution_count": 23,
   "metadata": {},
   "outputs": [
    {
     "data": {
      "text/plain": [
       "'HELLO THERE'"
      ]
     },
     "execution_count": 23,
     "metadata": {},
     "output_type": "execute_result"
    }
   ],
   "source": [
    "def uppercase_decorator(function):\n",
    "    def wrapper():\n",
    "        func = function()\n",
    "        make_uppercase = func.upper()\n",
    "        return make_uppercase\n",
    "\n",
    "    return wrapper\n",
    "\n",
    "def say_hi():\n",
    "    return 'hello there'\n",
    "\n",
    "@uppercase_decorator\n",
    "def say_hi():\n",
    "    return 'hello there'\n",
    "\n",
    "say_hi()"
   ]
  }
 ],
 "metadata": {
  "interpreter": {
   "hash": "ed98f0601b831bcc7b83204b240d5de8690f3d4c7ae43c4dad5e24aa4ea3791d"
  },
  "kernelspec": {
   "display_name": "Python 3.9.7 ('base')",
   "language": "python",
   "name": "python3"
  },
  "language_info": {
   "codemirror_mode": {
    "name": "ipython",
    "version": 3
   },
   "file_extension": ".py",
   "mimetype": "text/x-python",
   "name": "python",
   "nbconvert_exporter": "python",
   "pygments_lexer": "ipython3",
   "version": "3.9.7"
  },
  "orig_nbformat": 4
 },
 "nbformat": 4,
 "nbformat_minor": 2
}
